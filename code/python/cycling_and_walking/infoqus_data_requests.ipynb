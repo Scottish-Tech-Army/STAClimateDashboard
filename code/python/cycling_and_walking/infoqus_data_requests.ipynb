{
 "cells": [
  {
   "cell_type": "code",
   "execution_count": null,
   "metadata": {},
   "outputs": [],
   "source": [
    "#This python example shows how to retrieve data for your pedestrian and cycle counter(s) using the REST API of InfoQus\n",
    "#The original example written for and tested in Python v.3.6.5\n",
    "#The example uses the python 'requests' module, for more info on this module visit http://docs.python-requests.org/en/master/\n",
    "\n",
    "# blurb from Infoqus manual at - https://q-free.atlassian.net/servicedesk/customer/portal/2/topic/a0e5a6d3-b6ee-40e7-8857-9797642e1090/article/1142063109\n",
    "# original with mninor adaptation to suit own needs\n",
    "\n",
    "# (open) data available at: https://usmart.io/org/cyclingscotland \n",
    "# to download detail via API request client_id \n",
    "\n",
    "## application STA Climate Change \n",
    "## Aba-Sah Dadzie, last edited 27.08.2021\n"
   ]
  },
  {
   "cell_type": "code",
   "execution_count": 1,
   "metadata": {},
   "outputs": [],
   "source": [
    "import requests\n",
    "import shutil\n",
    "import sys\n",
    "import json\n",
    "\n",
    "from datetime import datetime, timedelta, date\n",
    "from requests import Request, Session\n"
   ]
  },
  {
   "cell_type": "code",
   "execution_count": 2,
   "metadata": {},
   "outputs": [],
   "source": [
    "def get_api_bearer_key(apiclient_id, apiclient_secret):\n",
    "    \n",
    "    getbearer_keyurl = 'https://api-identity.q-freehub.com/oauth/token'\n",
    "    \n",
    "    getbearer_keybody = {'grant_type': 'client_credentials', \n",
    "                        'client_id': apiclient_id, \n",
    "                        'client_secret': apiclient_secret, \n",
    "                        'audience': 'urn:q-freehub-api'\n",
    "                       }   \n",
    "    \n",
    "    bearerTokenRequet = requests.post(getbearer_keyurl, json = getbearer_keybody)\n",
    "    \n",
    "    if bearerTokenRequet.status_code != 200:\n",
    "        print(bearerTokenRequet.url)   \n",
    "        print(\"Error \" + str(bearerTokenRequet.status_code))\n",
    "        return None\n",
    "    else:\n",
    "        rjson = bearerTokenRequet.json()\n",
    "        return rjson['access_token']\n",
    "    "
   ]
  },
  {
   "cell_type": "code",
   "execution_count": null,
   "metadata": {},
   "outputs": [],
   "source": []
  },
  {
   "cell_type": "code",
   "execution_count": 15,
   "metadata": {},
   "outputs": [],
   "source": [
    " \n",
    "client_id = 'requested_client_id'\n",
    "client_secret = 'requested_client_secret'\n",
    "\n",
    "#base address of InfoQus api\n",
    "infoqus_api_base_url = 'https://api-infoqus.q-freehub.com/api/v1/''\n",
    "\n",
    "output_path = 'infoqus_output/'"
   ]
  },
  {
   "cell_type": "code",
   "execution_count": null,
   "metadata": {},
   "outputs": [],
   "source": [
    "# valid for a 24-hour period\n",
    "\n",
    "bearer_key = get_api_bearer_key(client_id, client_secret)\n",
    "bearer_key\n"
   ]
  },
  {
   "cell_type": "raw",
   "metadata": {},
   "source": [
    "# alternatively request data via curl ... - see docs for furher detail\n",
    "\n",
    "#curl https://api-infoqus.q-freehub.com/api/v1/sites -H \"Authorization: Bearer <CURRENT_BEARER_KEY>\"\n"
   ]
  },
  {
   "cell_type": "code",
   "execution_count": null,
   "metadata": {},
   "outputs": [],
   "source": []
  },
  {
   "cell_type": "markdown",
   "metadata": {},
   "source": [
    "## Function definitions"
   ]
  },
  {
   "cell_type": "code",
   "execution_count": 5,
   "metadata": {},
   "outputs": [],
   "source": [
    " \n",
    "def call_api(apiurl, bearer_key, parameters = None):\n",
    "    if parameters == None:\n",
    "        request = requests.get(apiurl, \n",
    "                         headers = {'accept': 'application/json', 'Authorization': 'Bearer ' + bearer_key})\n",
    "    else:\n",
    "        request = requests.get(apiurl, \n",
    "                         headers = {'accept': 'application/json', 'Authorization': 'Bearer ' + bearer_key}, \n",
    "                         params = parameters)\n",
    "        \n",
    "    if request.status_code != 200:\n",
    "        print(request.url)   \n",
    "        print(\"Error \" + str(request.status_code))\n",
    "        return None\n",
    "    else:\n",
    "        rjson = request.json()\n",
    "        return rjson\n",
    " "
   ]
  },
  {
   "cell_type": "code",
   "execution_count": 6,
   "metadata": {},
   "outputs": [],
   "source": [
    "def getSiteData(apibaseurl, bearerKey, siteId = None):\n",
    "    return call_api(apibaseurl + 'sites' + (('/' + str(siteId)) if (siteId != None) else ''), bearerKey)   \n",
    " "
   ]
  },
  {
   "cell_type": "code",
   "execution_count": 7,
   "metadata": {},
   "outputs": [],
   "source": [
    "# get all vehicles (pedestrian + bicycle + unknown) from API endpoint <apiurl>/Reporting/SingleSite?fromDate=<date1>&toDate=<date2>\n",
    "\n",
    "def getAllCountsByDay(apiBaseUrl, bearerKey, siteId, fromDate, toDate):\n",
    "\n",
    "    if (isinstance(fromDate, str)):\n",
    "        fromDate = datetime.strptime(fromDate, '%d/%m/%Y')\n",
    "    if (isinstance(toDate, str)):\n",
    "        toDate = datetime.strptime(toDate, '%d/%m/%Y')\n",
    "\n",
    "    params = {'fromDate': fromDate, \n",
    "              'toDate': toDate\n",
    "             }\n",
    "    \n",
    "    return call_api(apiBaseUrl + \"Reporting/SingleSite/\" + str(siteId), bearerKey, params)\n",
    "   "
   ]
  },
  {
   "cell_type": "code",
   "execution_count": 8,
   "metadata": {},
   "outputs": [],
   "source": [
    " \n",
    "# get data in defined intervals - API endpoint <apiurl>/Reporting/CrossingCount\n",
    "# supports params fromDate, toDate, siteIds, interval, classes, lanes, directions, aggregations (not interested but returns regardless)\n",
    "\n",
    "def getCounterData(apiBaseUrl, bearerKey, \n",
    "                   fromDate, toDate, \n",
    "                   countInterval = 'hour', \n",
    "                   vehicleClasses = 'Bicycle', \n",
    "                   siteIds = None, \n",
    "                   trafficDirections = None, \n",
    "                   laneIds = None):\n",
    "\n",
    "    if (isinstance(fromDate, str)):\n",
    "        fromDate = datetime.strptime(fromDate, '%d/%m/%Y')\n",
    "    if (isinstance(toDate, str)):\n",
    "        toDate = datetime.strptime(toDate, '%d/%m/%Y')\n",
    "\n",
    "\n",
    "    params = {'fromDate': fromDate,\n",
    "              'toDate': toDate,\n",
    "              'siteIds': siteIds,\n",
    "              'interval': countInterval, # ('hour', 'day', 'week', 'month' and 'year)\n",
    "              'classes': vehicleClasses, # ('Unknown', 'Pedestrian, Bicycle')\n",
    "              'directions': trafficDirections, # ('NorthBound', 'SouthBound', 'EastBound', 'WestBound')\n",
    "              'lanes': laneIds # (0, 1, 2, 3)\n",
    "             }\n",
    "    \n",
    "    return call_api(apiBaseUrl + \"Reporting/CrossingCount\", bearerKey, params)\n",
    " "
   ]
  },
  {
   "cell_type": "code",
   "execution_count": 9,
   "metadata": {},
   "outputs": [],
   "source": [
    "def getDetailedSiteCounterData(apiBaseUrl, bearerKey, outputPath, fromDate, toDate, siteId, countInterval = 'hour', \n",
    "                               vehicleClasses = 'Bicycle', trafficDirections = None, laneIds = None):\n",
    "\n",
    "    data_as_json = getCounterData(apiBaseUrl, bearerKey, \n",
    "                                  fromDate, toDate, countInterval,\n",
    "                                  vehicleClasses, siteId, trafficDirections, laneIds)      \n",
    "\n",
    "    if (data_as_json != None):\n",
    "        extractCountDataToFile(data_as_json, outputPath, fromDate, toDate, siteId, countInterval, \n",
    "                               vehicleClasses, trafficDirections, laneIds)                \n",
    "    #else:\n",
    "        # error will print ... \n"
   ]
  },
  {
   "cell_type": "code",
   "execution_count": null,
   "metadata": {},
   "outputs": [],
   "source": []
  },
  {
   "cell_type": "code",
   "execution_count": 10,
   "metadata": {},
   "outputs": [],
   "source": [
    " \n",
    "def getDetailedCounterData(apiBaseUrl, bearerKey, outputPath, fromDate, toDate, countInterval = 'hour', \n",
    "                           vehicleClasses = 'Bicycle', trafficDirections = None, laneIds = None):\n",
    "\n",
    "    reporting_sites = getSiteData(apiBaseUrl, bearerKey)\n",
    "\n",
    "    if reporting_sites != None:\n",
    "\n",
    "        for site in reporting_sites:\n",
    "            print('\\nSite ID: ' + str(site['id']))\n",
    "\n",
    "            data_as_json = getCounterData(apiBaseUrl, bearerKey, \n",
    "                                          fromDate, toDate, countInterval,\n",
    "                                          vehicleClasses, site['id'], trafficDirections, laneIds)   \n",
    "            \n",
    "            if (data_as_json != None):                \n",
    "                extractCountDataToFile(data_as_json, outputPath, fromDate, toDate, site['id'], countInterval, \n",
    "                                       vehicleClasses, trafficDirections, laneIds)                \n",
    "            #else:\n",
    "                # error will print ... \n",
    "                \n",
    "        # end for\n",
    "    # end if\n",
    "# end function"
   ]
  },
  {
   "cell_type": "code",
   "execution_count": 11,
   "metadata": {},
   "outputs": [],
   "source": [
    "def extractCountDataToFile(data_as_json, outputPath, fromDate, toDate, siteId, countInterval = 'hour', \n",
    "                           vehicleClasses = 'Bicycle', trafficDirections = None, laneIds = None):\n",
    "    \n",
    "    if (isinstance(fromDate, str)):\n",
    "        fromDate = datetime.strptime(fromDate, '%d/%m/%Y')\n",
    "    if (isinstance(toDate, str)):\n",
    "        toDate = datetime.strptime(toDate, '%d/%m/%Y')\n",
    "\n",
    "    \n",
    "    fileName = (outputPath +  'site' + str(siteId) + '-' + countInterval + '-' + \n",
    "                    #str(int(fromDate.timestamp())) + '-' + str(int(toDate.timestamp())) + '-' + \n",
    "                    str(int(fromDate.strftime(\"%d%m%Y\"))) + '-' + str(int(toDate.strftime(\"%d%m%Y\"))) + '-' +                     \n",
    "                    vehicleClasses + '-' + \n",
    "                    ('' if (trafficDirections == None) else (trafficDirections + '-')) + \n",
    "                    ('' if(laneIds == None) else laneIds)  + \n",
    "                    '.json')\n",
    "    print('Writing data to file: ' + fileName + ' ...')\n",
    "\n",
    "    dataFile = open(fileName, 'w')\n",
    "    dataFile.write(json.dumps(data_as_json))\n",
    "    dataFile.close()\n"
   ]
  },
  {
   "cell_type": "code",
   "execution_count": 12,
   "metadata": {},
   "outputs": [],
   "source": [
    "def getHourlyCounterDataAcrossYears(apiBaseUrl, bearerKey, outputPath, fromDate, toDate, vehicleClasses = 'Bicycle', \n",
    "                                    siteId = None, trafficDirections = None, laneIds = None):\n",
    "\n",
    "    fromDate = datetime.strptime(fromDate, '%d/%m/%Y')\n",
    "    toDate = datetime.strptime(toDate, '%d/%m/%Y')\n",
    "\n",
    "    startYear = fromDate.year\n",
    "    endYear = toDate.year\n",
    "    currentYear = startYear \n",
    "    print(startYear, endYear, currentYear, (currentYear <= endYear))\n",
    "    \n",
    "    while (currentYear <= endYear):\n",
    "\n",
    "        print(currentYear)\n",
    "\n",
    "        if ((currentYear == startYear) & (currentYear == endYear)):\n",
    "            spanStart = fromDate\n",
    "            spanEnd = toDate\n",
    "            print(\"span:\", spanStart, spanEnd, \"\\n\")\n",
    "            \n",
    "        \n",
    "        elif (currentYear == startYear):\n",
    "\n",
    "            spanStart = fromDate\n",
    "            spanEnd = fromDate.replace(year = fromDate.year, month = 12, day = 31)\n",
    "            print(\"start period:\", spanStart, spanEnd, \"\\n\")\n",
    "\n",
    "\n",
    "        elif (currentYear == endYear) :\n",
    "\n",
    "            spanStart = spanStart.replace(year = spanStart.year + 1, month = 1, day = 1)\n",
    "            spanEnd = toDate\n",
    "            print(\"final period:\", spanStart, spanEnd, \"\\n\")\n",
    "\n",
    "\n",
    "        else:\n",
    "\n",
    "            spanStart = spanStart.replace(year = spanStart.year + 1, month = 1, day = 1)\n",
    "            spanEnd = spanEnd.replace(year = spanEnd.year + 1)\n",
    "            print(\"interim period:\", spanStart, spanEnd, \"\\n\")\n",
    "\n",
    "\n",
    "        # extract counts\n",
    "        if (siteId == None):\n",
    "            getDetailedCounterData(infoqus_api_base_url, bearer_key, outputPath, spanStart, spanEnd, \n",
    "                                   vehicleClasses = vehicleClasses, trafficDirections = trafficDirections, laneIds = laneIds)\n",
    "        else:\n",
    "            getDetailedSiteCounterData(infoqus_api_base_url, bearer_key, outputPath, spanStart, spanEnd, siteId, \n",
    "                                       vehicleClasses = vehicleClasses, trafficDirections = trafficDirections, laneIds = laneIds)            \n",
    "\n",
    "        # end loop\n",
    "        currentYear = currentYear + 1 \n",
    "    \n",
    "    "
   ]
  },
  {
   "cell_type": "code",
   "execution_count": null,
   "metadata": {},
   "outputs": [],
   "source": []
  },
  {
   "cell_type": "markdown",
   "metadata": {},
   "source": [
    "## Examples - request data at different levels of detail"
   ]
  },
  {
   "cell_type": "code",
   "execution_count": 9,
   "metadata": {},
   "outputs": [
    {
     "data": {
      "text/plain": [
       "{'id': 12,\n",
       " 'status': 'Offline',\n",
       " 'batteryLevel': 6743.0,\n",
       " 'lastConnected': '2021-04-17T00:10:43.6984008+00:00',\n",
       " 'type': 'Cmu',\n",
       " 'externalId': '6047',\n",
       " 'name': 'EDU - Bearsden, Craigdhu Burn',\n",
       " 'geometry': {'type': 'Point', 'coordinates': [-4.317793, 55.931855]},\n",
       " 'offlineAfterMinutes': 3600,\n",
       " 'siteClassMappings': [{'fromClassIndex': 70, 'toVehicleClass': 'Bicycle'},\n",
       "  {'fromClassIndex': 71, 'toVehicleClass': 'Bicycle'},\n",
       "  {'fromClassIndex': 123, 'toVehicleClass': 'Pedestrian'},\n",
       "  {'fromClassIndex': 72, 'toVehicleClass': 'Bicycle'}]}"
      ]
     },
     "execution_count": 9,
     "metadata": {},
     "output_type": "execute_result"
    }
   ],
   "source": [
    "getSiteData(infoqus_api_base_url, bearer_key, 12)"
   ]
  },
  {
   "cell_type": "code",
   "execution_count": 17,
   "metadata": {
    "scrolled": false
   },
   "outputs": [
    {
     "data": {
      "text/plain": [
       "[{'id': 5,\n",
       "  'status': 'Offline',\n",
       "  'batteryLevel': 6582.0,\n",
       "  'lastConnected': '2021-08-27T02:01:07.7220602+00:00',\n",
       "  'type': 'Cmu',\n",
       "  'externalId': '4918',\n",
       "  'name': 'FIF - Dunfermline, Kingseat Road',\n",
       "  'geometry': {'type': 'Point', 'coordinates': [-3.4282, 56.08681]},\n",
       "  'offlineAfterMinutes': 40,\n",
       "  'siteClassMappings': [{'fromClassIndex': 70, 'toVehicleClass': 'Bicycle'},\n",
       "   {'fromClassIndex': 123, 'toVehicleClass': 'Pedestrian'},\n",
       "   {'fromClassIndex': 71, 'toVehicleClass': 'Bicycle'},\n",
       "   {'fromClassIndex': 72, 'toVehicleClass': 'Bicycle'}]},\n",
       " {'id': 7,\n",
       "  'status': 'Pending',\n",
       "  'type': 'Cmu',\n",
       "  'externalId': '123456789',\n",
       "  'name': 'Shields Road at Scotland Street',\n",
       "  'geometry': {'type': 'Point', 'coordinates': [-4.2764, 55.8498]},\n",
       "  'offlineAfterMinutes': 3600,\n",
       "  'siteClassMappings': [{'fromClassIndex': 70, 'toVehicleClass': 'Bicycle'},\n",
       "   {'fromClassIndex': 123, 'toVehicleClass': 'Pedestrian'}]},\n",
       " {'id': 8,\n",
       "  'status': 'Online',\n",
       "  'batteryLevel': 6534.0,\n",
       "  'lastConnected': '2021-08-27T03:06:59.2462754+00:00',\n",
       "  'type': 'Cmu',\n",
       "  'externalId': '6049',\n",
       "  'name': 'GLG - Glasgow, Portland Bridge',\n",
       "  'geometry': {'type': 'Point', 'coordinates': [-4.256008, 55.85441]},\n",
       "  'offlineAfterMinutes': 3600,\n",
       "  'siteClassMappings': [{'fromClassIndex': 70, 'toVehicleClass': 'Bicycle'},\n",
       "   {'fromClassIndex': 71, 'toVehicleClass': 'Bicycle'},\n",
       "   {'fromClassIndex': 123, 'toVehicleClass': 'Pedestrian'},\n",
       "   {'fromClassIndex': 72, 'toVehicleClass': 'Bicycle'}]}]"
      ]
     },
     "execution_count": 17,
     "metadata": {},
     "output_type": "execute_result"
    }
   ],
   "source": [
    "reporting_sites = getSiteData(infoqus_api_base_url, bearer_key)\n",
    "\n",
    "\n",
    "dataFile = open(output_path + \"reporting_sites.json\", 'w')\n",
    "dataFile.write(json.dumps(reporting_sites))\n",
    "dataFile.close()\n",
    "\n",
    "\n",
    "reporting_sites[:3]"
   ]
  },
  {
   "cell_type": "code",
   "execution_count": null,
   "metadata": {},
   "outputs": [],
   "source": []
  },
  {
   "cell_type": "code",
   "execution_count": 12,
   "metadata": {},
   "outputs": [
    {
     "data": {
      "text/plain": [
       "[{'date': '2021-02-18T00:00:00',\n",
       "  'data': [{'class': 0, 'count': 9},\n",
       "   {'class': 1, 'count': 179},\n",
       "   {'class': 2, 'count': 7}]},\n",
       " {'date': '2021-02-19T00:00:00',\n",
       "  'data': [{'class': 0, 'count': 10},\n",
       "   {'class': 1, 'count': 193},\n",
       "   {'class': 2, 'count': 19}]},\n",
       " {'date': '2021-02-20T00:00:00',\n",
       "  'data': [{'class': 0, 'count': 20},\n",
       "   {'class': 1, 'count': 321},\n",
       "   {'class': 2, 'count': 15}]}]"
      ]
     },
     "execution_count": 12,
     "metadata": {},
     "output_type": "execute_result"
    }
   ],
   "source": [
    "getAllCountsByDay(infoqus_api_base_url, bearer_key, 12, '18/02/2021', '20/02/2021')\n",
    "\n",
    "\n",
    "# item['class'] == 0: Unknown \n",
    "# item['class'] == 1: Pedestrian\n",
    "# item['class'] == 2: Bicycle"
   ]
  },
  {
   "cell_type": "code",
   "execution_count": null,
   "metadata": {},
   "outputs": [],
   "source": []
  },
  {
   "cell_type": "code",
   "execution_count": 14,
   "metadata": {},
   "outputs": [
    {
     "data": {
      "text/plain": [
       "{'crossingCountPerTimeInterval': [{'localTimestamp': '2021-02-18T00:00:00',\n",
       "   'count': 222},\n",
       "  {'localTimestamp': '2021-02-18T01:00:00', 'count': 270},\n",
       "  {'localTimestamp': '2021-02-18T02:00:00', 'count': 759},\n",
       "  {'localTimestamp': '2021-02-18T03:00:00', 'count': 632},\n",
       "  {'localTimestamp': '2021-02-18T04:00:00', 'count': 519},\n",
       "  {'localTimestamp': '2021-02-18T05:00:00', 'count': 683},\n",
       "  {'localTimestamp': '2021-02-18T06:00:00', 'count': 860},\n",
       "  {'localTimestamp': '2021-02-18T07:00:00', 'count': 1393},\n",
       "  {'localTimestamp': '2021-02-18T08:00:00', 'count': 1498},\n",
       "  {'localTimestamp': '2021-02-18T09:00:00', 'count': 1682},\n",
       "  {'localTimestamp': '2021-02-18T10:00:00', 'count': 2374},\n",
       "  {'localTimestamp': '2021-02-18T11:00:00', 'count': 1388},\n",
       "  {'localTimestamp': '2021-02-18T12:00:00', 'count': 771},\n",
       "  {'localTimestamp': '2021-02-18T13:00:00', 'count': 1214},\n",
       "  {'localTimestamp': '2021-02-18T14:00:00', 'count': 1673},\n",
       "  {'localTimestamp': '2021-02-18T15:00:00', 'count': 1710},\n",
       "  {'localTimestamp': '2021-02-18T16:00:00', 'count': 1505},\n",
       "  {'localTimestamp': '2021-02-18T17:00:00', 'count': 2275},\n",
       "  {'localTimestamp': '2021-02-18T18:00:00', 'count': 1447},\n",
       "  {'localTimestamp': '2021-02-18T19:00:00', 'count': 946},\n",
       "  {'localTimestamp': '2021-02-18T20:00:00', 'count': 508},\n",
       "  {'localTimestamp': '2021-02-18T21:00:00', 'count': 499},\n",
       "  {'localTimestamp': '2021-02-18T22:00:00', 'count': 483},\n",
       "  {'localTimestamp': '2021-02-18T23:00:00', 'count': 383},\n",
       "  {'localTimestamp': '2021-02-19T00:00:00', 'count': 324},\n",
       "  {'localTimestamp': '2021-02-19T01:00:00', 'count': 947},\n",
       "  {'localTimestamp': '2021-02-19T02:00:00', 'count': 1229},\n",
       "  {'localTimestamp': '2021-02-19T03:00:00', 'count': 1780},\n",
       "  {'localTimestamp': '2021-02-19T04:00:00', 'count': 1152},\n",
       "  {'localTimestamp': '2021-02-19T05:00:00', 'count': 801},\n",
       "  {'localTimestamp': '2021-02-19T06:00:00', 'count': 963},\n",
       "  {'localTimestamp': '2021-02-19T07:00:00', 'count': 884},\n",
       "  {'localTimestamp': '2021-02-19T08:00:00', 'count': 978},\n",
       "  {'localTimestamp': '2021-02-19T09:00:00', 'count': 982},\n",
       "  {'localTimestamp': '2021-02-19T10:00:00', 'count': 1534},\n",
       "  {'localTimestamp': '2021-02-19T11:00:00', 'count': 1339},\n",
       "  {'localTimestamp': '2021-02-19T12:00:00', 'count': 580},\n",
       "  {'localTimestamp': '2021-02-19T13:00:00', 'count': 869},\n",
       "  {'localTimestamp': '2021-02-19T14:00:00', 'count': 1450},\n",
       "  {'localTimestamp': '2021-02-19T15:00:00', 'count': 3474},\n",
       "  {'localTimestamp': '2021-02-19T16:00:00', 'count': 3249},\n",
       "  {'localTimestamp': '2021-02-19T17:00:00', 'count': 1102},\n",
       "  {'localTimestamp': '2021-02-19T18:00:00', 'count': 1543},\n",
       "  {'localTimestamp': '2021-02-19T19:00:00', 'count': 737},\n",
       "  {'localTimestamp': '2021-02-19T20:00:00', 'count': 661},\n",
       "  {'localTimestamp': '2021-02-19T21:00:00', 'count': 817},\n",
       "  {'localTimestamp': '2021-02-19T22:00:00', 'count': 669},\n",
       "  {'localTimestamp': '2021-02-19T23:00:00', 'count': 704}],\n",
       " 'aggregations': {'totalsPerDay': {'2021-02-18T00:00:00': 25694,\n",
       "   '2021-02-19T00:00:00': 28768},\n",
       "  'totalsPerHour': {'0': 546,\n",
       "   '1': 1217,\n",
       "   '2': 1988,\n",
       "   '3': 2412,\n",
       "   '4': 1671,\n",
       "   '5': 1484,\n",
       "   '6': 1823,\n",
       "   '7': 2277,\n",
       "   '8': 2476,\n",
       "   '9': 2664,\n",
       "   '10': 3908,\n",
       "   '11': 2727,\n",
       "   '12': 1351,\n",
       "   '13': 2083,\n",
       "   '14': 3123,\n",
       "   '15': 5184,\n",
       "   '16': 4754,\n",
       "   '17': 3377,\n",
       "   '18': 2990,\n",
       "   '19': 1683,\n",
       "   '20': 1169,\n",
       "   '21': 1316,\n",
       "   '22': 1152,\n",
       "   '23': 1087},\n",
       "  'total': 54462}}"
      ]
     },
     "execution_count": 14,
     "metadata": {},
     "output_type": "execute_result"
    }
   ],
   "source": [
    "getCounterData(infoqus_api_base_url, bearer_key, '18/02/2021', '19/02/2021',\n",
    "               countInterval = 'hour', \n",
    "               vehicleClasses = ('Pedestrian, Bicycle'), \n",
    "               #siteIds = 12, \n",
    "               trafficDirections = ('NorthBound', 'SouthBound', 'EastBound', 'WestBound'),\n",
    "               laneIds = (0, 1, 2, 3)\n",
    "              )\n",
    "          "
   ]
  },
  {
   "cell_type": "code",
   "execution_count": 15,
   "metadata": {},
   "outputs": [
    {
     "data": {
      "text/plain": [
       "{'crossingCountPerTimeInterval': [{'localTimestamp': '2021-02-15T00:00:00',\n",
       "   'count': 76},\n",
       "  {'localTimestamp': '2021-02-22T00:00:00', 'count': 173},\n",
       "  {'localTimestamp': '2021-03-01T00:00:00', 'count': 193},\n",
       "  {'localTimestamp': '2021-03-08T00:00:00', 'count': 99},\n",
       "  {'localTimestamp': '2021-03-15T00:00:00', 'count': 199},\n",
       "  {'localTimestamp': '2021-03-22T00:00:00', 'count': 136},\n",
       "  {'localTimestamp': '2021-03-29T00:00:00', 'count': 20}],\n",
       " 'aggregations': {'total': 896}}"
      ]
     },
     "execution_count": 15,
     "metadata": {},
     "output_type": "execute_result"
    }
   ],
   "source": [
    "getCounterData(infoqus_api_base_url, bearer_key, '18/02/2021', '29/03/2021',\n",
    "               countInterval = 'week', \n",
    "               #vehicleClasses = ('Pedestrian, Bicycle'), \n",
    "               siteIds = 12, \n",
    "               trafficDirections = ('NorthBound', 'SouthBound', 'EastBound', 'WestBound'),\n",
    "               laneIds = (0, 1, 2, 3)\n",
    "              )\n",
    "          "
   ]
  },
  {
   "cell_type": "code",
   "execution_count": 16,
   "metadata": {},
   "outputs": [
    {
     "data": {
      "text/plain": [
       "{'crossingCountPerTimeInterval': [{'localTimestamp': '2021-02-15T00:00:00',\n",
       "   'count': 1264},\n",
       "  {'localTimestamp': '2021-02-22T00:00:00', 'count': 2482},\n",
       "  {'localTimestamp': '2021-03-01T00:00:00', 'count': 2658},\n",
       "  {'localTimestamp': '2021-03-08T00:00:00', 'count': 1862},\n",
       "  {'localTimestamp': '2021-03-15T00:00:00', 'count': 2705},\n",
       "  {'localTimestamp': '2021-03-22T00:00:00', 'count': 2160},\n",
       "  {'localTimestamp': '2021-03-29T00:00:00', 'count': 264}],\n",
       " 'aggregations': {'total': 13395}}"
      ]
     },
     "execution_count": 16,
     "metadata": {},
     "output_type": "execute_result"
    }
   ],
   "source": [
    "getCounterData(infoqus_api_base_url, bearer_key, '18/02/2021', '29/03/2021',\n",
    "               countInterval = 'week', \n",
    "               vehicleClasses = 'Pedestrian', \n",
    "               siteIds = 12, \n",
    "               trafficDirections = ('NorthBound', 'SouthBound', 'EastBound', 'WestBound'),\n",
    "               laneIds = (0, 1, 2, 3)\n",
    "              )\n",
    "          "
   ]
  },
  {
   "cell_type": "code",
   "execution_count": null,
   "metadata": {},
   "outputs": [],
   "source": []
  },
  {
   "cell_type": "code",
   "execution_count": 26,
   "metadata": {},
   "outputs": [
    {
     "name": "stdout",
     "output_type": "stream",
     "text": [
      "Writing data to file: infoqus_output_plus/site12-week-1012021-14052021-Bicycle-SouthBound-.json ...\n"
     ]
    }
   ],
   "source": [
    "getDetailedSiteCounterData(infoqus_api_base_url, bearer_key, output_path, '01/01/2021', '14/05/2021',\n",
    "                       countInterval = 'week', \n",
    "                       # vehicleClasses = 'Pedestrian', \n",
    "                       siteId = 12, \n",
    "                       trafficDirections = 'SouthBound', #'EastBound', 'WestBound'),\n",
    "                       #laneIds = (0, 1, 2, 3)\n",
    "                          )\n"
   ]
  },
  {
   "cell_type": "code",
   "execution_count": 25,
   "metadata": {
    "scrolled": true
   },
   "outputs": [
    {
     "data": {
      "text/plain": [
       "{'crossingCountPerTimeInterval': [{'localTimestamp': '2017-01-18T00:00:00',\n",
       "   'count': 0},\n",
       "  {'localTimestamp': '2017-01-18T01:00:00', 'count': 0},\n",
       "  {'localTimestamp': '2017-01-18T02:00:00', 'count': 0},\n",
       "  {'localTimestamp': '2017-01-18T03:00:00', 'count': 0},\n",
       "  {'localTimestamp': '2017-01-18T04:00:00', 'count': 0},\n",
       "  {'localTimestamp': '2017-01-18T05:00:00', 'count': 0},\n",
       "  {'localTimestamp': '2017-01-18T06:00:00', 'count': 0},\n",
       "  {'localTimestamp': '2017-01-18T07:00:00', 'count': 0},\n",
       "  {'localTimestamp': '2017-01-18T08:00:00', 'count': 0},\n",
       "  {'localTimestamp': '2017-01-18T09:00:00', 'count': 0},\n",
       "  {'localTimestamp': '2017-01-18T10:00:00', 'count': 0},\n",
       "  {'localTimestamp': '2017-01-18T11:00:00', 'count': 0},\n",
       "  {'localTimestamp': '2017-01-18T12:00:00', 'count': 0},\n",
       "  {'localTimestamp': '2017-01-18T13:00:00', 'count': 0},\n",
       "  {'localTimestamp': '2017-01-18T14:00:00', 'count': 0},\n",
       "  {'localTimestamp': '2017-01-18T15:00:00', 'count': 0},\n",
       "  {'localTimestamp': '2017-01-18T16:00:00', 'count': 0},\n",
       "  {'localTimestamp': '2017-01-18T17:00:00', 'count': 0},\n",
       "  {'localTimestamp': '2017-01-18T18:00:00', 'count': 0},\n",
       "  {'localTimestamp': '2017-01-18T19:00:00', 'count': 0},\n",
       "  {'localTimestamp': '2017-01-18T20:00:00', 'count': 0},\n",
       "  {'localTimestamp': '2017-01-18T21:00:00', 'count': 0},\n",
       "  {'localTimestamp': '2017-01-18T22:00:00', 'count': 0},\n",
       "  {'localTimestamp': '2017-01-18T23:00:00', 'count': 0},\n",
       "  {'localTimestamp': '2017-01-19T00:00:00', 'count': 0},\n",
       "  {'localTimestamp': '2017-01-19T01:00:00', 'count': 0},\n",
       "  {'localTimestamp': '2017-01-19T02:00:00', 'count': 0},\n",
       "  {'localTimestamp': '2017-01-19T03:00:00', 'count': 0},\n",
       "  {'localTimestamp': '2017-01-19T04:00:00', 'count': 0},\n",
       "  {'localTimestamp': '2017-01-19T05:00:00', 'count': 0},\n",
       "  {'localTimestamp': '2017-01-19T06:00:00', 'count': 0},\n",
       "  {'localTimestamp': '2017-01-19T07:00:00', 'count': 0},\n",
       "  {'localTimestamp': '2017-01-19T08:00:00', 'count': 0},\n",
       "  {'localTimestamp': '2017-01-19T09:00:00', 'count': 0},\n",
       "  {'localTimestamp': '2017-01-19T10:00:00', 'count': 0},\n",
       "  {'localTimestamp': '2017-01-19T11:00:00', 'count': 0},\n",
       "  {'localTimestamp': '2017-01-19T12:00:00', 'count': 0},\n",
       "  {'localTimestamp': '2017-01-19T13:00:00', 'count': 0},\n",
       "  {'localTimestamp': '2017-01-19T14:00:00', 'count': 0},\n",
       "  {'localTimestamp': '2017-01-19T15:00:00', 'count': 0},\n",
       "  {'localTimestamp': '2017-01-19T16:00:00', 'count': 0},\n",
       "  {'localTimestamp': '2017-01-19T17:00:00', 'count': 0},\n",
       "  {'localTimestamp': '2017-01-19T18:00:00', 'count': 0},\n",
       "  {'localTimestamp': '2017-01-19T19:00:00', 'count': 0},\n",
       "  {'localTimestamp': '2017-01-19T20:00:00', 'count': 0},\n",
       "  {'localTimestamp': '2017-01-19T21:00:00', 'count': 0},\n",
       "  {'localTimestamp': '2017-01-19T22:00:00', 'count': 0},\n",
       "  {'localTimestamp': '2017-01-19T23:00:00', 'count': 0}],\n",
       " 'aggregations': {'totalsPerDay': {'2017-01-18T00:00:00': 0,\n",
       "   '2017-01-19T00:00:00': 0},\n",
       "  'totalsPerHour': {'0': 0,\n",
       "   '1': 0,\n",
       "   '2': 0,\n",
       "   '3': 0,\n",
       "   '4': 0,\n",
       "   '5': 0,\n",
       "   '6': 0,\n",
       "   '7': 0,\n",
       "   '8': 0,\n",
       "   '9': 0,\n",
       "   '10': 0,\n",
       "   '11': 0,\n",
       "   '12': 0,\n",
       "   '13': 0,\n",
       "   '14': 0,\n",
       "   '15': 0,\n",
       "   '16': 0,\n",
       "   '17': 0,\n",
       "   '18': 0,\n",
       "   '19': 0,\n",
       "   '20': 0,\n",
       "   '21': 0,\n",
       "   '22': 0,\n",
       "   '23': 0},\n",
       "  'total': 0}}"
      ]
     },
     "execution_count": 25,
     "metadata": {},
     "output_type": "execute_result"
    }
   ],
   "source": [
    "          \n",
    "getCounterData(infoqus_api_base_url, bearer_key, '18/01/2017', '19/01/2017',\n",
    "               countInterval = 'hour', \n",
    "               vehicleClasses = ('Pedestrian, Bicycle'), \n",
    "               #siteIds = 12, \n",
    "               trafficDirections = ('NorthBound', 'SouthBound', 'EastBound', 'WestBound'),\n",
    "               laneIds = (0, 1, 2, 3)\n",
    "              )\n",
    "              "
   ]
  },
  {
   "cell_type": "code",
   "execution_count": 28,
   "metadata": {},
   "outputs": [
    {
     "data": {
      "text/plain": [
       "{'crossingCountPerTimeInterval': [{'localTimestamp': '2021-06-01T00:00:00',\n",
       "   'count': 40102},\n",
       "  {'localTimestamp': '2021-06-02T00:00:00', 'count': 41190},\n",
       "  {'localTimestamp': '2021-06-03T00:00:00', 'count': 50263},\n",
       "  {'localTimestamp': '2021-06-04T00:00:00', 'count': 43526},\n",
       "  {'localTimestamp': '2021-06-05T00:00:00', 'count': 37733},\n",
       "  {'localTimestamp': '2021-06-06T00:00:00', 'count': 41735},\n",
       "  {'localTimestamp': '2021-06-07T00:00:00', 'count': 38965},\n",
       "  {'localTimestamp': '2021-06-08T00:00:00', 'count': 34966},\n",
       "  {'localTimestamp': '2021-06-09T00:00:00', 'count': 27304},\n",
       "  {'localTimestamp': '2021-06-10T00:00:00', 'count': 39131},\n",
       "  {'localTimestamp': '2021-06-11T00:00:00', 'count': 37532},\n",
       "  {'localTimestamp': '2021-06-12T00:00:00', 'count': 53329},\n",
       "  {'localTimestamp': '2021-06-13T00:00:00', 'count': 43039},\n",
       "  {'localTimestamp': '2021-06-14T00:00:00', 'count': 44117},\n",
       "  {'localTimestamp': '2021-06-15T00:00:00', 'count': 34114},\n",
       "  {'localTimestamp': '2021-06-16T00:00:00', 'count': 38954},\n",
       "  {'localTimestamp': '2021-06-17T00:00:00', 'count': 58766},\n",
       "  {'localTimestamp': '2021-06-18T00:00:00', 'count': 43755},\n",
       "  {'localTimestamp': '2021-06-19T00:00:00', 'count': 29223},\n",
       "  {'localTimestamp': '2021-06-20T00:00:00', 'count': 28747},\n",
       "  {'localTimestamp': '2021-06-21T00:00:00', 'count': 40005},\n",
       "  {'localTimestamp': '2021-06-22T00:00:00', 'count': 48270},\n",
       "  {'localTimestamp': '2021-06-23T00:00:00', 'count': 38275},\n",
       "  {'localTimestamp': '2021-06-24T00:00:00', 'count': 39371},\n",
       "  {'localTimestamp': '2021-06-25T00:00:00', 'count': 54585},\n",
       "  {'localTimestamp': '2021-06-26T00:00:00', 'count': 33109},\n",
       "  {'localTimestamp': '2021-06-27T00:00:00', 'count': 41447},\n",
       "  {'localTimestamp': '2021-06-28T00:00:00', 'count': 38975},\n",
       "  {'localTimestamp': '2021-06-29T00:00:00', 'count': 40997},\n",
       "  {'localTimestamp': '2021-06-30T00:00:00', 'count': 42865}],\n",
       " 'aggregations': {'total': 1224390}}"
      ]
     },
     "execution_count": 28,
     "metadata": {},
     "output_type": "execute_result"
    }
   ],
   "source": [
    "          \n",
    "getCounterData(infoqus_api_base_url, bearer_key, '01/06/2021', '30/06/2021',\n",
    "               countInterval = 'day', \n",
    "               vehicleClasses = ('Pedestrian, Bicycle'), \n",
    "               #siteIds = 12, \n",
    "               trafficDirections = ('NorthBound', 'SouthBound', 'EastBound', 'WestBound'),\n",
    "               laneIds = (0, 1, 2, 3)\n",
    "              )\n",
    "              "
   ]
  },
  {
   "cell_type": "code",
   "execution_count": null,
   "metadata": {},
   "outputs": [],
   "source": []
  },
  {
   "cell_type": "markdown",
   "metadata": {},
   "source": [
    "## Batch downloads"
   ]
  },
  {
   "cell_type": "code",
   "execution_count": null,
   "metadata": {},
   "outputs": [],
   "source": [
    "#output_path = 'infoqus_output_plus/'\n",
    "#\n",
    "#getHourlyCounterDataAcrossYears(infoqus_api_base_url, bearer_key, output_path, '01/06/2017', '31/05/2021', \n",
    "#                                trafficDirections = 'NorthBound') \n",
    "#\n",
    "#getHourlyCounterDataAcrossYears(infoqus_api_base_url, bearer_key, output_path, '01/06/2017', '31/05/2021', \n",
    "#                                trafficDirections = 'SouthBound') \n",
    "#\n",
    "#getHourlyCounterDataAcrossYears(infoqus_api_base_url, bearer_key, output_path, '01/06/2017', '31/05/2021', \n",
    "#                                trafficDirections = 'WestBound')\n",
    "#\n",
    "#getHourlyCounterDataAcrossYears(infoqus_api_base_url, bearer_key, output_path, '01/06/2017', '31/05/2021', \n",
    "#                                trafficDirections = 'EastBound')\n",
    "#    \n",
    "#    \n",
    "#    \n",
    "#getHourlyCounterDataAcrossYears(infoqus_api_base_url, bearer_key, output_path, '01/06/2017', '31/05/2021', \n",
    "#                                vehicleClasses = 'Pedestrian', trafficDirections = 'NorthBound') \n",
    "#\n",
    "#getHourlyCounterDataAcrossYears(infoqus_api_base_url, bearer_key, output_path, '01/06/2017', '31/05/2021', \n",
    "#                                vehicleClasses = 'Pedestrian', trafficDirections = 'SouthBound') \n",
    "#\n",
    "#getHourlyCounterDataAcrossYears(infoqus_api_base_url, bearer_key, output_path, '01/06/2017', '31/05/2021', \n",
    "#                                vehicleClasses = 'Pedestrian', trafficDirections = 'WestBound')\n",
    "#\n",
    "#getHourlyCounterDataAcrossYears(infoqus_api_base_url, bearer_key, output_path, '01/06/2017', '31/05/2021', \n",
    "#                                vehicleClasses = 'Pedestrian', trafficDirections = 'EastBound')\n",
    "#                                    "
   ]
  },
  {
   "cell_type": "code",
   "execution_count": null,
   "metadata": {},
   "outputs": [],
   "source": []
  }
 ],
 "metadata": {
  "kernelspec": {
   "display_name": "Python 3",
   "language": "python",
   "name": "python3"
  },
  "language_info": {
   "codemirror_mode": {
    "name": "ipython",
    "version": 3
   },
   "file_extension": ".py",
   "mimetype": "text/x-python",
   "name": "python",
   "nbconvert_exporter": "python",
   "pygments_lexer": "ipython3",
   "version": "3.8.2"
  }
 },
 "nbformat": 4,
 "nbformat_minor": 4
}
